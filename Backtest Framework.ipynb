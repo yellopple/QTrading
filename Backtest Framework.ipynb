{
 "cells": [
  {
   "cell_type": "markdown",
   "metadata": {},
   "source": [
    "# Backtest Framework\n",
    "\n",
    "Archer"
   ]
  },
  {
   "cell_type": "markdown",
   "metadata": {},
   "source": [
    "## 1. Components\n",
    "\n",
    "|Component|Intro|\n",
    "|:-:|:-|\n",
    "|Data|Data retriver class, for aligning data types and useful functions such as getting rolling based data for avoiding look ahead bias.|\n",
    "|Trade|Trade class, which includes exit, stoploss, take profit strategy; trade current position; trade status; etc.|\n",
    "|Backtest|Backtest class, which includes: 1. backtest on rolling basis, support close out positions based on trades specific exit rules; 2. wallet for saving spot status, i.e. buy/sell asset, get current holding; 3. Summary function, support strategy NAV and holding NAV plot, as well as strategy analysis.|"
   ]
  },
  {
   "cell_type": "markdown",
   "metadata": {},
   "source": [
    "## 2. Data\n",
    "\n",
    "```Python\n",
    "class Data:\n",
    "    def __init__(self, universe, price_to_use='Adj Close'):\n",
    "        # get data\n",
    "        self.data_raw = GetData(names=universe)\n",
    "        # price to use\n",
    "        self.price_to_use = price_to_use\n",
    "    \n",
    "    def get_rolling_one(self, date, asset, rolling_window, shift_back=1):\n",
    "        '''get rolling info for one asset\n",
    "        shift_back is for backwarding dates:\n",
    "            shift_back == 0: including data on date\n",
    "            shift_back == 1: does not include data on date\n",
    "        return Series\n",
    "        '''\n",
    "        # tradable on the day\n",
    "        check = self.get_asset_price_daily(asset, date)\n",
    "        if check is not None:\n",
    "            dates = self.data_raw[asset].Date.to_list()\n",
    "            idx = dates.index(date)\n",
    "            if idx-rolling_window < 0:\n",
    "                return None\n",
    "            dates_to_use = dates[max(0, idx-rolling_window):max(1,idx+1-shift_back)]\n",
    "            return self.data_raw[asset][['Date',self.price_to_use]].set_index('Date')[dates_to_use[0]:dates_to_use[-1]][self.price_to_use]\n",
    "        else:\n",
    "            return None\n",
    "    \n",
    "    def get_rolling(self, date, universe, rolling_window, shift_back=1):\n",
    "        '''get rolling info for all assets in universe\n",
    "        '''\n",
    "        rolling_rst = {}\n",
    "        for asset in universe:\n",
    "            temp = self.get_rolling_one(date, asset, rolling_window, shift_back=shift_back)\n",
    "            if temp is not None:\n",
    "                rolling_rst[asset] = temp\n",
    "        return rolling_rst\n",
    "    \n",
    "    def get_asset_price_daily(self, asset, date):\n",
    "        '''get asset price for the day, if not exist, return None\n",
    "        '''\n",
    "        data = self.data_raw[asset]\n",
    "        if date in data.Date.to_list():\n",
    "            return data[['Date',self.price_to_use]].set_index('Date')[self.price_to_use][date]\n",
    "        else:\n",
    "            return None\n",
    "    \n",
    "    def get_all_trading_days(self):\n",
    "        '''get all trading days from self.data_raw\n",
    "        defination: if any asset in universe has value, then it's a trading day.\n",
    "            if can obtain any index from yfinance, then should use index date as trading day\n",
    "        '''\n",
    "        date_set = set()\n",
    "        for asset in self.data_raw:\n",
    "            date_set = date_set|set(self.data_raw[asset].Date.to_list())\n",
    "        date_list = list(date_set)\n",
    "        date_list.sort()\n",
    "        return date_list\n",
    "    \n",
    "```"
   ]
  },
  {
   "cell_type": "markdown",
   "metadata": {},
   "source": [
    "Generate a sample universe for retriving data"
   ]
  },
  {
   "cell_type": "code",
   "execution_count": 1,
   "metadata": {},
   "outputs": [
    {
     "data": {
      "text/plain": [
       "['ACN', 'ADBE', 'AMD', 'AKAM', 'APH', 'ADI', 'ANSS', 'AAPL', 'AMAT', 'ANET']"
      ]
     },
     "execution_count": 1,
     "metadata": {},
     "output_type": "execute_result"
    }
   ],
   "source": [
    "import pandas as pd\n",
    "\n",
    "from get_data import Get_SP500\n",
    "# sample sector\n",
    "spinfo = Get_SP500(output='all').set_index('Symbol').to_dict()\n",
    "temp = pd.Series(spinfo['GICS Sector']).reset_index()\n",
    "temp.columns=['id','indust']\n",
    "universe = temp[temp['indust'] == 'Information Technology'].id.to_list()[:10]\n",
    "universe"
   ]
  },
  {
   "cell_type": "markdown",
   "metadata": {},
   "source": [
    "Generate a Data object to retrive data and find below functions:\n",
    "\n",
    "|Function|Discription|\n",
    "|-|-|\n",
    "|.get_all_trading_days()|Get all trading days from given data|\n",
    "|.get_rolling(date, universe, rolling_window)|Get data from trading universe without lookahead bias by fetching previous n day data|\n",
    "|.get_asset_price_daily(asset, date)|A short cut for getting asset price|"
   ]
  },
  {
   "cell_type": "code",
   "execution_count": 6,
   "metadata": {},
   "outputs": [
    {
     "data": {
      "text/plain": [
       "['2009-12-31', '2010-01-04', '2010-01-05', '2010-01-06', '2010-01-07']"
      ]
     },
     "execution_count": 6,
     "metadata": {},
     "output_type": "execute_result"
    }
   ],
   "source": [
    "from backtest_data import Data\n",
    "a = Data(universe)\n",
    "# get trading day\n",
    "a.get_all_trading_days()[:5]"
   ]
  },
  {
   "cell_type": "code",
   "execution_count": 10,
   "metadata": {
    "scrolled": true
   },
   "outputs": [
    {
     "name": "stdout",
     "output_type": "stream",
     "text": [
      "{'ACN': Date\n",
      "2013-09-30    63.173965\n",
      "2013-10-01    63.328377\n",
      "2013-10-02    63.062447\n",
      "2013-10-03    62.745033\n",
      "2013-10-04    62.847977\n",
      "Name: Adj Close, dtype: float64, 'ADBE': Date\n",
      "2013-09-30    51.939999\n",
      "2013-10-01    52.430000\n",
      "2013-10-02    51.520000\n",
      "2013-10-03    50.880001\n",
      "2013-10-04    51.570000\n",
      "Name: Adj Close, dtype: float64, 'AMD': Date\n",
      "2013-09-30    3.81\n",
      "2013-10-01    3.86\n",
      "2013-10-02    3.90\n",
      "2013-10-03    3.90\n",
      "2013-10-04    3.91\n",
      "Name: Adj Close, dtype: float64, 'AKAM': Date\n",
      "2013-09-30    51.700001\n",
      "2013-10-01    52.419998\n",
      "2013-10-02    52.220001\n",
      "2013-10-03    51.160000\n",
      "2013-10-04    52.320000\n",
      "Name: Adj Close, dtype: float64, 'APH': Date\n",
      "2013-09-30    36.271671\n",
      "2013-10-01    36.384167\n",
      "2013-10-02    36.351364\n",
      "2013-10-03    35.741993\n",
      "2013-10-04    35.854481\n",
      "Name: Adj Close, dtype: float64, 'ADI': Date\n",
      "2013-09-30    39.963699\n",
      "2013-10-01    40.014664\n",
      "2013-10-02    39.751358\n",
      "2013-10-03    39.343636\n",
      "2013-10-04    39.912735\n",
      "Name: Adj Close, dtype: float64, 'ANSS': Date\n",
      "2013-09-30    86.519997\n",
      "2013-10-01    87.760002\n",
      "2013-10-02    87.150002\n",
      "2013-10-03    85.230003\n",
      "2013-10-04    85.940002\n",
      "Name: Adj Close, dtype: float64, 'AAPL': Date\n",
      "2013-09-30    60.624092\n",
      "2013-10-01    62.049583\n",
      "2013-10-02    62.253033\n",
      "2013-10-03    61.471004\n",
      "2013-10-04    61.422688\n",
      "Name: Adj Close, dtype: float64, 'AMAT': Date\n",
      "2013-09-30    15.618607\n",
      "2013-10-01    15.565150\n",
      "2013-10-02    15.600787\n",
      "2013-10-03    15.440416\n",
      "2013-10-04    15.654244\n",
      "Name: Adj Close, dtype: float64}\n",
      "Date\n",
      "2013-09-30    63.173965\n",
      "2013-10-01    63.328377\n",
      "2013-10-02    63.062447\n",
      "2013-10-03    62.745033\n",
      "2013-10-04    62.847977\n",
      "2013-10-07    62.067310\n",
      "Name: Adj Close, dtype: float64\n",
      "62.06731033325195\n"
     ]
    }
   ],
   "source": [
    "# samples\n",
    "rolling_window = 5\n",
    "date = '2013-10-07'\n",
    "asset = 'ACN'\n",
    "# get history data for all assets, in format of dictionary\n",
    "print(a.get_rolling(date, universe, rolling_window))\n",
    "# get history data for one asset\n",
    "print(a.get_rolling_one(date, asset, rolling_window, shift_back=0))\n",
    "# get asset price for one day\n",
    "print(a.get_asset_price_daily(asset, date))"
   ]
  },
  {
   "cell_type": "markdown",
   "metadata": {},
   "source": [
    "## 3. Trade\n",
    "\n",
    "Think of a simple strategy:\n",
    "\n",
    "* Entry: short ADBE and long ACN for 1 unit as Z score of their price ratio swing 2 std away form mean;\n",
    "* Exit: ratio revert back to within 1 std from mean;\n",
    "\n",
    "Note: here, the mean and std are all on rolling basis, indicating we expect the market is anchoring on the moving average than the fixed mean level when we build the strategy.(Actually it's easier in coding if we use the fixed level for exit)\n",
    "\n",
    "### Sample\n",
    "```python\n",
    "a_trade = Trade( position_dict = {a1:-1, a2: 1}, \n",
    "                                    name = 'pairs:+ACN-AMD', \n",
    "                                    date = day1, \n",
    "                                    # pair_exit is a funciton\n",
    "                                    strategy_exit = pair_exit)\n",
    "```\n",
    "\n",
    "### Close out strategies\n",
    "\n",
    "* Incl. exit/stop loss/take profit\n",
    "* each strategy is a function\n",
    "* input of the function is `date`, `data`\n",
    "* output is `True` or `False`"
   ]
  },
  {
   "cell_type": "markdown",
   "metadata": {},
   "source": [
    "```Python\n",
    "class Trade:\n",
    "    def __init__(self, position_dict, name, date,\n",
    "                 strategy_exit=lambda date, data:None, \n",
    "                 strategy_takeprofit=lambda date, data:None, \n",
    "                 strategy_stoploss=lambda date, data:None):\n",
    "        '''\n",
    "        Args:\n",
    "            position_dict: units of each asset, dict\n",
    "            name: name of strategy, in purpose of no duplicate\n",
    "            date: current date, the date of the trade\n",
    "            strategy_exit: func\n",
    "            strategy_takeprofit: func\n",
    "            strategy_stoploss: func\n",
    "        '''\n",
    "        self.position = position_dict\n",
    "        self.name = name # strategy name\n",
    "        self.current_status = 'In Use'\n",
    "        self.status_hist = {date: 'In Use'}\n",
    "        # strategies\n",
    "        self.exit_strategy = strategy_exit\n",
    "        self.take_profit_strategy = strategy_takeprofit\n",
    "        self.stop_loss_strategy = strategy_stoploss\n",
    "        \n",
    "    def status_update(self, date, data):\n",
    "        exits = self.exit_strategy(date, data)\n",
    "        if exits:\n",
    "            self.current_status = 'Exit'\n",
    "            self.status_hist[date] = self.current_status\n",
    "        \n",
    "        takeprofits = self.take_profit_strategy(date, data)\n",
    "        if takeprofits:\n",
    "            self.current_status = 'Take Profit'\n",
    "            self.status_hist[date] = self.current_status\n",
    "        \n",
    "        stoploss = self.stop_loss_strategy(date, data)\n",
    "        if stoploss:\n",
    "            self.current_status = 'Stop Loss'\n",
    "            self.status_hist[date] = self.current_status\n",
    "```"
   ]
  },
  {
   "cell_type": "code",
   "execution_count": 11,
   "metadata": {},
   "outputs": [
    {
     "data": {
      "text/plain": [
       "<matplotlib.axes._subplots.AxesSubplot at 0x1725142f608>"
      ]
     },
     "execution_count": 11,
     "metadata": {},
     "output_type": "execute_result"
    },
    {
     "data": {
      "image/png": "[encoded data removed]",
      "text/plain": [
       "<Figure size 432x288 with 1 Axes>"
      ]
     },
     "metadata": {
      "needs_background": "light"
     },
     "output_type": "display_data"
    }
   ],
   "source": [
    "from trade_class import Trade\n",
    "# regenerate universe\n",
    "a1 = 'ACN'\n",
    "a2 = 'ADBE'\n",
    "universe = [a1, a2]\n",
    "data = Data(universe)\n",
    "# temp yr 2014-2016 stable relationship\n",
    "data0 = data.get_rolling('2016-06-01', universe, 500, shift_back=0)\n",
    "ratio = data0[a1]/data0[a2]\n",
    "ratio.plot()"
   ]
  },
  {
   "cell_type": "code",
   "execution_count": 14,
   "metadata": {},
   "outputs": [
    {
     "name": "stdout",
     "output_type": "stream",
     "text": [
      "2015-01-12 In Use\n"
     ]
    }
   ],
   "source": [
    "# data for check\n",
    "rolling_window = 100\n",
    "\n",
    "def sample_exit(date, data, threshold):\n",
    "    long = data[a1]\n",
    "    short = data[a2]\n",
    "    ratio = short/long\n",
    "    std = ratio.std()\n",
    "    avg = ratio.mean()\n",
    "    Z = (ratio[-1] - avg)/std\n",
    "    return abs(Z) <= threshold\n",
    "\n",
    "# generate trade on day1\n",
    "pair_exit = lambda date, data: sample_exit(date, data, 0.5)\n",
    "day1 = '2015-01-12'\n",
    "pair = Trade(\n",
    "        position_dict = {a1:-1, a2: 1}, \n",
    "        name = 'pairs:+ACN-AMD', \n",
    "        date = day1, \n",
    "        strategy_exit = pair_exit)\n",
    "print(day1, pair.current_status)"
   ]
  },
  {
   "cell_type": "code",
   "execution_count": 15,
   "metadata": {},
   "outputs": [
    {
     "name": "stdout",
     "output_type": "stream",
     "text": [
      "2015-03-24 Exit\n",
      "{'2015-01-12': 'In Use', '2015-03-24': 'Exit'}\n"
     ]
    }
   ],
   "source": [
    "# update trade on day2\n",
    "day2 = '2015-03-24'\n",
    "data2 = data.get_rolling(day2, universe, rolling_window, shift_back=0)\n",
    "pair.status_update(day2, data2)\n",
    "print(day2, pair.current_status)\n",
    "print(pair.status_hist)"
   ]
  },
  {
   "cell_type": "markdown",
   "metadata": {},
   "source": [
    "## 4. Backtest\n",
    "\n"
   ]
  },
  {
   "cell_type": "code",
   "execution_count": 17,
   "metadata": {},
   "outputs": [],
   "source": [
    "from backtest_class import Backtest\n",
    "# exit strategy\n",
    "def sample_exit(date, data, threshold=1.1):\n",
    "    long = data[a1]\n",
    "    short = data[a2]\n",
    "    ratio = short/long\n",
    "    std = ratio.std()\n",
    "    avg = ratio.mean()\n",
    "    Z = (ratio[-1] - avg)/std\n",
    "    return abs(Z) <= threshold\n",
    "\n",
    "# position entry rule, if enter, return a list of trades\n",
    "def sample_enter_trade(date, data, threshold=2, exit_strategy = sample_exit):\n",
    "    long = data[a1]\n",
    "    short = data[a2]\n",
    "    ratio = short/long\n",
    "    std = ratio.std()\n",
    "    avg = ratio.mean()\n",
    "    Z = (ratio[-1] - avg)/std\n",
    "    if abs(Z) >= threshold:\n",
    "        # note: should return a Trade object here\n",
    "        pair = Trade(\n",
    "                position_dict = {a1:-1, a2: 1}, \n",
    "                name = 'pairs:+{}-{}'.format(a1, a2), \n",
    "                date = date, \n",
    "                strategy_exit = exit_strategy\n",
    "                )\n",
    "        return [pair]\n",
    "    else:\n",
    "        return []\n",
    "\n",
    "# Generate Backtest using above entry rules\n",
    "pairs = Backtest(sample_enter_trade, data, universe, look_back_period=80)"
   ]
  },
  {
   "cell_type": "code",
   "execution_count": 18,
   "metadata": {},
   "outputs": [
    {
     "name": "stdout",
     "output_type": "stream",
     "text": [
      "0/72 running...\n",
      "Asset:ACN not in current wallet.\n",
      "Asset:ADBE not in current wallet.\n",
      "7/72 running...\n",
      "14/72 running...\n",
      "21/72 running...\n",
      "28/72 running...\n",
      "35/72 running...\n",
      "42/72 running...\n",
      "49/72 running...\n",
      "56/72 running...\n",
      "63/72 running...\n",
      "70/72 running...\n",
      "[<trade_class.Trade object at 0x000001724CCAD208>, <trade_class.Trade object at 0x000001724FCA3088>, <trade_class.Trade object at 0x0000017251775888>]\n",
      "{'2015-01-13': 'In Use', '2015-01-23': 'Exit'}\n",
      "{'2015-03-18': 'In Use', '2015-03-19': 'Exit'}\n",
      "{'2015-03-27': 'In Use', '2015-04-23': 'Exit'}\n"
     ]
    }
   ],
   "source": [
    "# daily check if any new positions can be entered\n",
    "freq = 'D'\n",
    "st = '2015-01-12'\n",
    "ed = '2015-04-28'\n",
    "pairs.timely_trade(freq=freq, st=st, ed=ed)\n",
    "print(pairs.strategy_pool)\n",
    "for i in pairs.strategy_pool:\n",
    "    print(i.status_hist)"
   ]
  },
  {
   "cell_type": "code",
   "execution_count": 19,
   "metadata": {},
   "outputs": [
    {
     "data": {
      "text/plain": [
       "<matplotlib.axes._subplots.AxesSubplot at 0x1725180cf08>"
      ]
     },
     "execution_count": 19,
     "metadata": {},
     "output_type": "execute_result"
    },
    {
     "data": {
      "image/png": "[encoded data removed]",
      "text/plain": [
       "<Figure size 432x288 with 1 Axes>"
      ]
     },
     "metadata": {
      "needs_background": "light"
     },
     "output_type": "display_data"
    },
    {
     "data": {
      "image/png": "[encoded data removed]",
      "text/plain": [
       "<Figure size 432x288 with 1 Axes>"
      ]
     },
     "metadata": {
      "needs_background": "light"
     },
     "output_type": "display_data"
    }
   ],
   "source": [
    "# plot the NAV of this trading strategy\n",
    "pd.Series(pairs.NAV_all).plot(title='NAV')\n",
    "# show the NAV of each individual asset\n",
    "pd.DataFrame(pairs.NAV_indi).T.plot(title='Holding Distribution by Asset')"
   ]
  },
  {
   "cell_type": "markdown",
   "metadata": {},
   "source": [
    "Source Code of Backtest:\n",
    "```Python\n",
    "class Wallet:\n",
    "    '''For saving holding positions, count in units\n",
    "    '''\n",
    "    def __init__(self, initial_cash = 100):\n",
    "        self.holding={'cash':initial_cash}\n",
    "        \n",
    "    def buy(self, asset, quantity, price):\n",
    "        if asset not in self.holding:\n",
    "            self.holding[asset] = 0\n",
    "        self.holding[asset] += quantity\n",
    "        self.holding['cash'] -= price*quantity\n",
    "        \n",
    "    def sell(self, asset, quantity, price):\n",
    "        if asset not in self.holding:\n",
    "            # it's possible to open a non-covered short position\n",
    "            self.holding[asset] = 0\n",
    "        self.holding[asset] -= quantity\n",
    "        self.holding['cash'] += price*quantity\n",
    "\n",
    "    def current_holding(self):\n",
    "        '''return current holding and values'''\n",
    "        current_holding = {}\n",
    "        for i in self.holding:\n",
    "            if self.holding[i] != 0:\n",
    "                current_holding[i] = self.holding[i]\n",
    "        return current_holding\n",
    "    \n",
    "    def get_position(self, asset):\n",
    "        if asset not in self.holding:\n",
    "            print('Asset:{} not in current wallet.'.format(asset))\n",
    "            return 0\n",
    "        else:\n",
    "            return self.holding[asset]\n",
    "\n",
    "class Backtest:\n",
    "    def __init__(self, start_new_trades, data, universe, look_back_period=80):\n",
    "        '''\n",
    "        args:\n",
    "            start_new_trades: a function for getting trades, must return a list of trades\n",
    "            data: Data object\n",
    "            universe: a list of tick names\n",
    "            look_back_period: backtest period\n",
    "        '''\n",
    "        self.setup_backtest()\n",
    "        self.setup_manual(start_new_trades, data, universe, look_back_period)\n",
    "\n",
    "    def setup_backtest(self):\n",
    "        # spot info\n",
    "        self.wallet = Wallet()\n",
    "        self.current_date = None\n",
    "        self.strategy_pool = []\n",
    "        # hist info\n",
    "        self.num_trades = 0\n",
    "        self.trading_hist = []\n",
    "        self.holding_hist = []\n",
    "        # statistical info\n",
    "        self.NAV_all = {}\n",
    "        self.NAV_indi = {}\n",
    "    \n",
    "    def setup_manual(self, start_new_trades, data, universe, look_back_period):\n",
    "        self.lookback_period = look_back_period # rolling period\n",
    "        self.start_new_trades = start_new_trades # get position, input=data, output = target position\n",
    "        self.data = data # class, support get asset daily data\n",
    "        self.universe = universe\n",
    "        \n",
    "    def timely_trade(self, freq, st=None, ed=None):\n",
    "        '''timely initiate new trades\n",
    "        '''\n",
    "        all_dates = self.data.get_all_trading_days()\n",
    "        if st is not None:\n",
    "            all_dates = [x for x in all_dates if x > st]\n",
    "        if ed is not None:\n",
    "            all_dates = [x for x in all_dates if x < ed]\n",
    "        # adjust frequency for all_dates\n",
    "        trading_dates = reshuffle_dates(freq, all_dates)\n",
    "        # execution\n",
    "        for i, date in enumerate(all_dates):\n",
    "            if i%(len(all_dates)//10)==0:\n",
    "                print('{}/{} running...'.format(i, len(all_dates)))\n",
    "            if date in trading_dates:\n",
    "                self.actions(date)\n",
    "            self.daily_summary()\n",
    "            \n",
    "    def daily_summary(self):\n",
    "        '''generate summary statistics for current day\n",
    "        '''\n",
    "        today = self.current_date\n",
    "        current_holding = self.wallet.current_holding()\n",
    "        NAV = {\n",
    "                x: current_holding[x] * self.data.get_asset_price_daily(x, today) \n",
    "                for x in current_holding if x != 'cash'\n",
    "                }\n",
    "        NAV['cash'] = current_holding['cash']\n",
    "        self.NAV_indi[today] = NAV\n",
    "        self.NAV_all[today] = sum(NAV.values())\n",
    "        \n",
    "    def actions(self, date):\n",
    "        '''\n",
    "        main function, responsible for daily issues\n",
    "        flow:\n",
    "            1. get relevant data\n",
    "            2. get position\n",
    "                old status check\n",
    "                new add in\n",
    "                sum position\n",
    "            3. identify trades and validate trades\n",
    "            4. trade execution\n",
    "        '''\n",
    "        self.current_date = date\n",
    "        # 1. get data\n",
    "        used_data = self.data.get_rolling(date, self.universe, self.lookback_period)\n",
    "        \n",
    "        '''\n",
    "        mark: room to improve in c: count only the additional and sum them up\n",
    "            \n",
    "        # 2. get position\n",
    "        a. for existing trades, update status\n",
    "        b. add new trades to current pool\n",
    "        c. calculate total units of position\n",
    "        final output is units of position\n",
    "        '''\n",
    "        # a. update status\n",
    "        active_strategies = [x for x in self.strategy_pool if x.current_status == 'In Use']\n",
    "        for trade in active_strategies:\n",
    "            trade.status_update(date, used_data)\n",
    "        # b. open new trades\n",
    "        # only open if currently not using same strategy\n",
    "        new_trades = self.start_new_trades(date, used_data) # f(data), return dictionary, key=asset, value = units\n",
    "        active_names = [x.name for x in active_strategies]\n",
    "        for trade_i in new_trades:\n",
    "            if trade_i.name not in active_names:\n",
    "                self.strategy_pool.append(trade_i) \n",
    "        # c. sum target positions\n",
    "        active_strategies = [x for x in self.strategy_pool if x.current_status == 'In Use']\n",
    "        total_positions = [trade.position for trade in active_strategies]\n",
    "        target_position = {} \n",
    "        for trade_pos in total_positions:\n",
    "            for asset in trade_pos:\n",
    "                if asset not in target_position:\n",
    "                    target_position[asset] = trade_pos[asset] \n",
    "                else:\n",
    "                    target_position[asset] += trade_pos[asset] \n",
    "#        print(date, target_position)\n",
    "        \n",
    "        # 3. identify trades, validate trades\n",
    "        daily_trades = self.identify_trades(target_position) \n",
    "#        print(daily_trades)\n",
    "        if len(daily_trades) > 0:\n",
    "            self.trading_hist.append(daily_trades) \n",
    "            \n",
    "        # 4. trade execution\n",
    "        self.trades_execution(daily_trades, date) \n",
    "        \n",
    "        #5. saving\n",
    "        if len(daily_trades) > 0:\n",
    "            holding_log = self.wallet.current_holding() \n",
    "            holding_log['date'] = date \n",
    "            self.holding_hist.append(holding_log) \n",
    "\n",
    "    def identify_trades(self, target_position):\n",
    "        '''identify trades from targetposition and current position\n",
    "        input:\n",
    "            target position\n",
    "        reff:\n",
    "            current position\n",
    "        return:\n",
    "            trades to make in day\n",
    "        '''\n",
    "        daily_trades = []\n",
    "        for i in self.wallet.current_holding():\n",
    "            if i not in target_position and i != 'cash':\n",
    "                target_position[i] = 0\n",
    "        for i in target_position:\n",
    "            current_pos = self.wallet.get_position(i)\n",
    "            target_pos = target_position[i]\n",
    "            # check tradable\n",
    "            if not self.tradable(i, self.current_date):\n",
    "                continue\n",
    "            # trading info generation\n",
    "            price = self.data.get_asset_price_daily(i, self.current_date)\n",
    "            trade = {\n",
    "                     'asset': i,\n",
    "                     'date': self.current_date,\n",
    "                     'price' : price\n",
    "                     }\n",
    "            if current_pos > target_pos:\n",
    "                trade['direction'] = 'close'\n",
    "                trade['quantity'] = current_pos - target_pos\n",
    "                daily_trades.append(trade)\n",
    "            elif current_pos < target_pos:\n",
    "                trade['direction'] = 'open'\n",
    "                trade['quantity'] = target_pos - current_pos\n",
    "                daily_trades.append(trade)\n",
    "        return daily_trades\n",
    "    \n",
    "    def tradable(self, asset, date):\n",
    "        '''check if price exist for the day\n",
    "        '''\n",
    "        if self.data.get_asset_price_daily(asset, date) is not None: # asset has price info on the day\n",
    "            return True\n",
    "        else:\n",
    "            return False\n",
    "\n",
    "    def trades_execution(self, trades, date):\n",
    "        '''execution\n",
    "        trade = {'direction':'open',\n",
    "                 'asset': 'cash',\n",
    "                 'quantity': 100}\n",
    "        trades = [trade1, trade2, ...]\n",
    "        '''\n",
    "        for trade in trades:\n",
    "            self.open_trade(trade)\n",
    "    \n",
    "    def open_trade(self, trade):\n",
    "        '''trading entry execution\n",
    "        '''\n",
    "        if trade['direction'] == 'open':\n",
    "            self.wallet.buy(trade['asset'], trade['quantity'], trade['price'])\n",
    "            self.num_trades += 1\n",
    "            return\n",
    "        elif trade['direction'] == 'close':\n",
    "            self.wallet.sell(trade['asset'], trade['quantity'], trade['price'])\n",
    "            self.num_trades += 1\n",
    "            return\n",
    "```"
   ]
  },
  {
   "cell_type": "code",
   "execution_count": null,
   "metadata": {},
   "outputs": [],
   "source": []
  }
 ],
 "metadata": {
  "kernelspec": {
   "display_name": "Python 3",
   "language": "python",
   "name": "python3"
  },
  "language_info": {
   "codemirror_mode": {
    "name": "ipython",
    "version": 3
   },
   "file_extension": ".py",
   "mimetype": "text/x-python",
   "name": "python",
   "nbconvert_exporter": "python",
   "pygments_lexer": "ipython3",
   "version": "3.7.4"
  }
 },
 "nbformat": 4,
 "nbformat_minor": 2
}
